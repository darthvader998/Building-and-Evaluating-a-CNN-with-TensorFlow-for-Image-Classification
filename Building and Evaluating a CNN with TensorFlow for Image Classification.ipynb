{
  "nbformat": 4,
  "nbformat_minor": 0,
  "metadata": {
    "colab": {
      "provenance": []
    },
    "kernelspec": {
      "name": "python3",
      "display_name": "Python 3"
    },
    "language_info": {
      "name": "python"
    }
  },
  "cells": [
    {
      "cell_type": "markdown",
      "metadata": {
        "id": "view-in-github"
      },
      "source": [
        "<a href=\"https://colab.research.google.com/github/UNB-TME-6017-W24/assignment-1-darthvader998/blob/main/3721371_Purushotham.ipynb\" target=\"_parent\"><img src=\"https://colab.research.google.com/assets/colab-badge.svg\" alt=\"Open In Colab\"/></a>"
      ]
    },
    {
      "cell_type": "markdown",
      "source": [
        "\n",
        "\n",
        "\n",
        "1. **tf.keras.layers.Conv2D:**\n",
        "This layer is designed to process spatial data, particularly in the context of image processing and feature extraction within Convolutional Neural Networks (CNNs). Its function involves convolving input data with a series of filters, effectively capturing spatial hierarchies and patterns.\n",
        "   - **Options:**\n",
        "     - `filters`: Number of filters/kernels to apply.\n",
        "     - `kernel_size`: Size of the convolutional kernel.\n",
        "     - `strides`: Step size for kernel movement.\n",
        "     - `padding`: 'valid' or 'same', determines how to handle borders.\n",
        "     - `activation`: Activation function applied to the output.\n",
        "\n",
        "   ```python\n",
        "   model.add(tf.keras.layers.Conv2D(filters=32, kernel_size=(3, 3), strides=(1, 1), padding='valid', activation='relu'))\n",
        "   ```\n",
        "\n",
        "2. **tf.keras.layers.MaxPooling2D:**\n",
        "This layer is employed for downsampling spatial dimensions, specifically through the technique of max pooling. Its role is to decrease the spatial dimensions of the input, emphasizing the retention of the most crucial features.\n",
        "   - **Options:**\n",
        "     - `pool_size`: Size of the pooling window.\n",
        "     - `strides`: Step size for pooling.\n",
        "     - `padding`: 'valid' or 'same', similar to Conv2D.\n",
        "   \n",
        "   ```python\n",
        "   model.add(tf.keras.layers.MaxPooling2D(pool_size=(2, 2), strides=(2, 2), padding='valid'))\n",
        "   ```\n",
        "\n",
        "3. **tf.keras.layers.Dropout:**\n",
        "This layer, known as dropout, serves as a regularization technique by randomly setting a fraction of input units to zero during training. Its purpose is to mitigate overfitting by decreasing dependence on specific neurons, promoting a more robust model.\n",
        "   - **Options:**\n",
        "     - `rate`: Fraction of input units to drop during training.\n",
        "     - `noise_shape`: Shape of binary dropout mask.\n",
        "\n",
        "   ```python\n",
        "   model.add(tf.keras.layers.Dropout(rate=0.25))\n",
        "   ```\n",
        "\n",
        "4. **tf.keras.layers.Flatten:**\n",
        "This layer is responsible for transforming input into a 1D array, effectively collapsing spatial dimensions. It is commonly employed to facilitate the transition from convolutional or pooling layers to densely connected layers in neural networks.\n",
        "   - **Options:**\n",
        "     - `data_format`: Defines input dimension order: channels_last (default) or channels_first.\n",
        "\n",
        "   ```python\n",
        "   model.add(tf.keras.layers.Flatten())\n",
        "   ```\n",
        "\n",
        "5. **tf.keras.layers.Dense:**\n",
        "This type of layer is referred to as a fully connected dense layer. In this configuration, every neuron from the preceding layer establishes connections with each neuron in the current layer, creating an extensive network of interconnections.\n",
        "   - **Options:**\n",
        "     - `units`: Number of neurons in the layer.\n",
        "     - `activation`: Activation function applied to the output.\n",
        "     - `use_bias`: Whether to use bias term.\n",
        "\n",
        "   ```python\n",
        "   model.add(tf.keras.layers.Dense(units=128, activation='relu', use_bias=True))\n",
        "   ```\n",
        "   \n"
      ],
      "metadata": {
        "id": "gP9lUVe7TQ5f"
      }
    },
    {
      "cell_type": "markdown",
      "source": [
        "2. Setup and Load the MNIST Dataset\n",
        "\n",
        "Import the necessary libraries from TensorFlow and Keras.\n",
        "\n",
        "Load the MNIST dataset and split it into training and testing sets.\n",
        "\n",
        "Normalize the pixel values of the images to the range [0, 1].\n",
        "\n",
        "Convert the class vectors to binary class matrices (one-hot encoding).\n",
        "\n",
        "\n",
        "\n",
        "\n"
      ],
      "metadata": {
        "id": "2VHfjJV4Bdx3"
      }
    },
    {
      "cell_type": "code",
      "execution_count": null,
      "metadata": {
        "id": "FC_HLlfV_sdP",
        "outputId": "c2a58ce3-e188-48d6-bf01-034652f24d86",
        "colab": {
          "base_uri": "https://localhost:8080/"
        }
      },
      "outputs": [
        {
          "output_type": "stream",
          "name": "stdout",
          "text": [
            "Downloading data from https://storage.googleapis.com/tensorflow/tf-keras-datasets/mnist.npz\n",
            "11490434/11490434 [==============================] - 0s 0us/step\n"
          ]
        }
      ],
      "source": [
        "\n",
        "\n",
        "\n",
        "import tensorflow as tf\n",
        "from tensorflow.keras.datasets import mnist\n",
        "from tensorflow.keras.utils import to_categorical\n",
        "\n",
        "# Load the MNIST dataset and divide it into training and testing sets\n",
        "(x_train, y_train), (x_test, y_test) = mnist.load_data()\n",
        "\n",
        "# Scale pixel values to fit within the range [0, 1]\n",
        "x_train, x_test = x_train / 255.0, x_test / 255.0\n",
        "\n",
        "# Transform class vectors into binary class matrices using one-hot encoding\n",
        "y_train = to_categorical(y_train, 10)\n",
        "y_test = to_categorical(y_test, 10)\n"
      ]
    },
    {
      "cell_type": "markdown",
      "source": [
        "The provided code snippet accomplishes the following tasks:\n",
        "\n",
        "1. It imports essential libraries, such as TensorFlow and associated modules.\n",
        "2. Retrieves the MNIST dataset and automatically divides it into training and testing sets using the mnist.load_data() function.\n",
        "3. Normalizes pixel values by dividing the arrays representing images by 255.0, ensuring that they fall within the [0, 1] range.\n",
        "4. Utilizes the to_categorical function from keras.utils to convert class vectors into binary class matrices. This conversion is crucial for dealing with categorical cross-entropy loss during the training of the model.\n",
        "   \n"
      ],
      "metadata": {
        "id": "e8BZCleoBbh4"
      }
    },
    {
      "cell_type": "markdown",
      "source": [
        "\n",
        "\n",
        "\n",
        "\n",
        "\n",
        "\n",
        "3. Build the CNN Model\n",
        "\n",
        "Model Architecture : Create a sequential model and add the following layers:\n",
        "\n",
        "A convolutional layer with 32 filters, a 3x3 kernel size, and the 'relu' activation function.\n",
        "\n",
        "A max-pooling layer with a 2x2 pool size.\n",
        "\n",
        "A dropout layer with a dropout rate of 0.25.\n",
        "\n",
        "Another convolutional layer with 64 filters, a 3x3 kernel size, and the 'relu' activation function.\n",
        "\n",
        "A max-pooling layer with a 2x2 pool size.\n",
        "\n",
        "A dropout layer with a dropout rate of 0.25.\n",
        "\n",
        "A flatten layer to convert the 2D output to a 1D vector.\n",
        "\n",
        "A dense layer with 128 units and the 'relu' activation function.\n",
        "\n",
        "A dropout layer with a dropout rate of 0.5.\n",
        "\n",
        "A dense output layer with 10 units and the 'softmax' activation function.\n",
        "\n",
        "Compilation (1 point): Compile the model with an appropriate optimizer, loss function, and metrics."
      ],
      "metadata": {
        "id": "71dXtEjXM1IS"
      }
    },
    {
      "cell_type": "code",
      "source": [
        "\n",
        "from tensorflow.keras import layers, models\n",
        "\n",
        "# Establish a sequential model\n",
        "model = models.Sequential()\n",
        "\n",
        "# Add layers to the model\n",
        "model.add(layers.Conv2D(32, (3, 3), activation='relu', input_shape=(28, 28, 1)))\n",
        "model.add(layers.MaxPooling2D((2, 2)))\n",
        "model.add(layers.Dropout(0.25))\n",
        "\n",
        "model.add(layers.Conv2D(64, (3, 3), activation='relu'))\n",
        "model.add(layers.MaxPooling2D((2, 2)))\n",
        "model.add(layers.Dropout(0.25))\n",
        "\n",
        "model.add(layers.Flatten())\n",
        "model.add(layers.Dense(128, activation='relu'))\n",
        "model.add(layers.Dropout(0.5))\n",
        "model.add(layers.Dense(10, activation='softmax'))\n",
        "\n",
        "# Compile the model\n",
        "model.compile(optimizer='adam',\n",
        "              loss='categorical_crossentropy',\n",
        "              metrics=['accuracy'])\n"
      ],
      "metadata": {
        "id": "JhI6aTPKAxFB"
      },
      "execution_count": null,
      "outputs": []
    },
    {
      "cell_type": "markdown",
      "source": [
        "The provided code snippet performs the following actions:\n",
        "\n",
        "1. Establishes the model as a Sequential model through the use of `models.Sequential()`.\n",
        "\n",
        "2. Sets up the first Convolutional Layer with 32 filters, a 3x3 kernel size, and a 'relu' activation function.\n",
        "   - Includes a MaxPooling Layer with a pool size of 2x2.\n",
        "   - Incorporates a Dropout Layer with a dropout rate of 0.25.\n",
        "\n",
        "3. Configures the second Convolutional Layer with 64 filters, a 3x3 kernel size, and a 'relu' activation function.\n",
        "   - Integrates another MaxPooling Layer with a pool size of 2x2.\n",
        "   - Adds a Dropout Layer with a dropout rate of 0.25.\n",
        "\n",
        "4. Implements a Flatten Layer, transforming the 2D output into a 1D vector.\n",
        "\n",
        "5. Introduces a Dense Layer, serving as a fully connected layer with 128 units and utilizing 'relu' activation.\n",
        "   - Intermixes a Dropout Layer with a dropout rate of 0.5.\n",
        "\n",
        "6. Establishes the Dense Output Layer, functioning as a fully connected output layer with 10 units (for 10 classes) and employing 'softmax' activation.\n",
        "\n",
        "7. Compiles the model using the 'adam' optimizer, 'categorical_crossentropy' loss (appropriate for multi-class classification), and accuracy as the evaluation metric."
      ],
      "metadata": {
        "id": "Nx8Aw496NIJF"
      }
    },
    {
      "cell_type": "markdown",
      "source": [
        "4. Train and Test the Model (3 points)\n",
        "\n",
        "Train the model on the MNIST training set. Choose an appropriate batch size and number of epochs.\n",
        "\n",
        "Evaluate the model on the MNIST test set and report the accuracy.\n",
        "\n",
        "Save the training history for later analysis.\n"
      ],
      "metadata": {
        "id": "E9QU_6cyPHxr"
      }
    },
    {
      "cell_type": "code",
      "source": [
        "# Transform the data to possess a single channel\n",
        "x_train = x_train.reshape((x_train.shape[0], 28, 28, 1))\n",
        "x_test = x_test.reshape((x_test.shape[0], 28, 28, 1))\n",
        "\n",
        "# Specify the batch size and set the number of epochs\n",
        "batch_size = 64\n",
        "epochs = 10\n",
        "\n",
        "# Fit the model using the MNIST training set\n",
        "history = model.fit(x_train, y_train,\n",
        "                    epochs=epochs,\n",
        "                    batch_size=batch_size,\n",
        "                    validation_split=0.2)\n",
        "\n",
        "# Assess the model's performance on the MNIST test set\n",
        "test_loss, test_accuracy = model.evaluate(x_test, y_test, verbose=2)\n",
        "\n",
        "print(f\"Test Accuracy: {test_accuracy * 100:.2f}%\")\n",
        "\n",
        "# Store the training history in a file\n",
        "import pickle\n",
        "\n",
        "with open('training_history.pkl', 'wb') as file:\n",
        "    pickle.dump(history.history, file)\n"
      ],
      "metadata": {
        "colab": {
          "base_uri": "https://localhost:8080/"
        },
        "id": "cXl5AMOGO4Nm",
        "outputId": "673c5157-c18d-4d96-b77e-2998d96bd601"
      },
      "execution_count": null,
      "outputs": [
        {
          "output_type": "stream",
          "name": "stdout",
          "text": [
            "Epoch 1/10\n",
            "750/750 [==============================] - 39s 50ms/step - loss: 0.3360 - accuracy: 0.8947 - val_loss: 0.0788 - val_accuracy: 0.9785\n",
            "Epoch 2/10\n",
            "750/750 [==============================] - 37s 49ms/step - loss: 0.1219 - accuracy: 0.9629 - val_loss: 0.0532 - val_accuracy: 0.9859\n",
            "Epoch 3/10\n",
            "750/750 [==============================] - 37s 49ms/step - loss: 0.0918 - accuracy: 0.9728 - val_loss: 0.0443 - val_accuracy: 0.9871\n",
            "Epoch 4/10\n",
            "750/750 [==============================] - 36s 49ms/step - loss: 0.0767 - accuracy: 0.9775 - val_loss: 0.0378 - val_accuracy: 0.9883\n",
            "Epoch 5/10\n",
            "750/750 [==============================] - 39s 51ms/step - loss: 0.0659 - accuracy: 0.9801 - val_loss: 0.0392 - val_accuracy: 0.9888\n",
            "Epoch 6/10\n",
            "750/750 [==============================] - 37s 49ms/step - loss: 0.0601 - accuracy: 0.9814 - val_loss: 0.0351 - val_accuracy: 0.9902\n",
            "Epoch 7/10\n",
            "750/750 [==============================] - 37s 49ms/step - loss: 0.0565 - accuracy: 0.9825 - val_loss: 0.0332 - val_accuracy: 0.9911\n",
            "Epoch 8/10\n",
            "750/750 [==============================] - 37s 50ms/step - loss: 0.0496 - accuracy: 0.9849 - val_loss: 0.0348 - val_accuracy: 0.9912\n",
            "Epoch 9/10\n",
            "750/750 [==============================] - 37s 49ms/step - loss: 0.0464 - accuracy: 0.9857 - val_loss: 0.0342 - val_accuracy: 0.9908\n",
            "Epoch 10/10\n",
            "750/750 [==============================] - 39s 52ms/step - loss: 0.0463 - accuracy: 0.9859 - val_loss: 0.0311 - val_accuracy: 0.9920\n",
            "313/313 - 2s - loss: 0.0227 - accuracy: 0.9922 - 2s/epoch - 6ms/step\n",
            "Test Accuracy: 99.22%\n"
          ]
        }
      ]
    },
    {
      "cell_type": "markdown",
      "source": [
        "The provided code snippet carries out the following steps:\n",
        "\n",
        "The input data is reshaped to a single channel, aligning with the model's expected input shape of (28, 28, 1).\n",
        "\n",
        "A batch size of 64 and a choice of 10 epochs are selected.\n",
        "\n",
        "The model is trained using the fit method on the MNIST training set, with 20% of the data reserved for validation.\n",
        "\n",
        "Subsequently, the model is evaluated on the MNIST test set using the evaluate method.\n",
        "\n",
        "The test accuracy is calculated, printed, and displayed.\n",
        "\n",
        "For future analysis or plotting, the training history is saved to a file using the pickle module.\n",
        "\n",
        "Adjustments to batch size and the number of epochs are made based on specific requirements and available computational resources."
      ],
      "metadata": {
        "id": "idZAEEqbPqrT"
      }
    },
    {
      "cell_type": "markdown",
      "source": [
        "5. Analysis and Reporting (3 points)\n",
        "\n",
        "Plot the training and validation accuracy and loss over epochs.\n",
        "\n",
        "Discuss any signs of overfitting or underfitting and suggest possible solutions.\n",
        "\n",
        "Provide a brief summary of your findings and any insights gained from this assignment."
      ],
      "metadata": {
        "id": "fGbPxEBWQhf2"
      }
    },
    {
      "cell_type": "code",
      "source": [
        "import matplotlib.pyplot as plt\n",
        "\n",
        "# Visualize the accuracy values for training and validation datasets\n",
        "plt.figure(figsize=(12, 6))\n",
        "plt.subplot(1, 2, 1)\n",
        "plt.plot(history.history['accuracy'])\n",
        "plt.plot(history.history['val_accuracy'])\n",
        "plt.title('Model Accuracy')\n",
        "plt.xlabel('Epoch')\n",
        "plt.ylabel('Accuracy')\n",
        "plt.legend(['Train', 'Validation'], loc='upper left')\n",
        "\n",
        "# Display the loss values for both training and validation datasets\n",
        "plt.subplot(1, 2, 2)\n",
        "plt.plot(history.history['loss'])\n",
        "plt.plot(history.history['val_loss'])\n",
        "plt.title('Model Loss')\n",
        "plt.xlabel('Epoch')\n",
        "plt.ylabel('Loss')\n",
        "plt.legend(['Train', 'Validation'], loc='upper left')\n",
        "\n",
        "plt.tight_layout()\n",
        "plt.show()\n"
      ],
      "metadata": {
        "colab": {
          "base_uri": "https://localhost:8080/",
          "height": 607
        },
        "id": "eJCGa4pfRVAX",
        "outputId": "202a2f7e-a077-4556-b6b5-5a519f700596"
      },
      "execution_count": null,
      "outputs": [
        {
          "output_type": "display_data",
          "data": {
            "text/plain": [
              "<Figure size 1200x600 with 2 Axes>"
            ],
            "image/png": "[encoded data removed]"
          },
          "metadata": {}
        }
      ]
    },
    {
      "cell_type": "markdown",
      "source": [
        "Observations:\n",
        "\n",
        "- Accuracy Plot: Both training and validation accuracy show a steady increase, suggesting effective learning by the model.\n",
        "- Loss Plot: Training and validation loss consistently decrease, indicating the model's ability to generalize.\n",
        "\n",
        "Signs of Overfitting or Underfitting:\n",
        "\n",
        "- Overfitting: No clear signs of overfitting are observed, as the training and validation accuracy and loss closely align throughout the epochs.\n",
        "- Underfitting: There is no evidence of underfitting; the model effectively captures underlying patterns in the data.\n",
        "\n",
        "Possible Solutions:\n",
        "\n",
        "- The inclusion of dropout layers in the model architecture serves as a regularization technique, preventing overfitting.\n",
        "- Implementing early stopping based on validation loss could be considered to halt training when performance on the validation set plateaus.\n",
        "\n",
        "Conclusion:\n",
        "\n",
        "- The model achieves a test accuracy of 99.22%, demonstrating its effectiveness in classifying MNIST digits.\n",
        "- The training and validation plots indicate a well-generalized model with minimal signs of overfitting or underfitting.\n",
        "- Key contributors to success include convolutional layers for feature extraction, pooling for dimensionality reduction, and dropout for regularization.\n",
        "- Continuous monitoring and potential hyperparameter adjustments can further enhance the model's performance."
      ],
      "metadata": {
        "id": "54yMIObgSKHe"
      }
    }
  ]
}